{
 "cells": [
  {
   "cell_type": "code",
   "execution_count": 14,
   "metadata": {},
   "outputs": [
    {
     "name": "stdout",
     "output_type": "stream",
     "text": [
      "El año actual es: 2022\n",
      "El mes actual es: 2\n",
      "El dia actual es: 11\n",
      "La fecha comleta de hoy es: 2022-02-11\n",
      "11 parsecs , es: 35.877159999999996 años luz\n",
      "Años luz35.877159999999996 años luz\n"
     ]
    }
   ],
   "source": [
    "from datetime import date\n",
    "\n",
    "print(\"El año actual es: \" + str(date.today().year))\n",
    "print(\"El mes actual es: \" + str(date.today().month))\n",
    "print(\"El dia actual es: \" + str(date.today().day))\n",
    "\n",
    "print(\"La fecha comleta de hoy es: \" + str(date.today()))\n",
    "\n",
    "parsec = 11\n",
    "lightyears = 3.26156 * parsec\n",
    "\n",
    "print(str(parsec) + \" parsecs , es: \" + str(lightyears) + \" años luz\")\n",
    "print(\"Años luz\" + str(lightyears) + \" años luz\") "
   ]
  }
 ],
 "metadata": {
  "interpreter": {
   "hash": "b89b5cfaba6639976dc87ff2fec6d58faec662063367e2c229c520fe71072417"
  },
  "kernelspec": {
   "display_name": "Python 3.10.2 64-bit",
   "language": "python",
   "name": "python3"
  },
  "language_info": {
   "codemirror_mode": {
    "name": "ipython",
    "version": 3
   },
   "file_extension": ".py",
   "mimetype": "text/x-python",
   "name": "python",
   "nbconvert_exporter": "python",
   "pygments_lexer": "ipython3",
   "version": "3.10.2"
  },
  "orig_nbformat": 4
 },
 "nbformat": 4,
 "nbformat_minor": 2
}
