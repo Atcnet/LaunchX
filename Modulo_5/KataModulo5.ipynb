{
 "cells": [
  {
   "cell_type": "markdown",
   "metadata": {},
   "source": [
    "## Ejercicio 1"
   ]
  },
  {
   "cell_type": "code",
   "execution_count": 13,
   "metadata": {},
   "outputs": [
    {
     "name": "stdout",
     "output_type": "stream",
     "text": [
      "149597870\n",
      "778547200\n"
     ]
    }
   ],
   "source": [
    "# Crear variables para almacenar las dos distancias\n",
    "# ¡Asegúrate de quitar las comas!\n",
    "\n",
    "PrimerPlanet = \"149.597.870\"\n",
    "SegundoPlanet = \"778.547.200\"\n",
    "\n",
    "PrimerPlaneta = int(PrimerPlanet.replace(\".\",\"\"))\n",
    "SegundoPlaneta = int(SegundoPlanet.replace(\".\",\"\"))\n",
    "\n",
    "print(PrimerPlaneta);\n",
    "print(SegundoPlaneta);"
   ]
  },
  {
   "cell_type": "code",
   "execution_count": 19,
   "metadata": {},
   "outputs": [
    {
     "name": "stdout",
     "output_type": "stream",
     "text": [
      "La distancia en kilometros es: 628949330\n",
      "La distancia en millas es: 1012195830.53952\n"
     ]
    }
   ],
   "source": [
    "# Calcular la distancia entre planetas\n",
    "\n",
    "DistanceKm = SegundoPlaneta - PrimerPlaneta\n",
    "print( \"La distancia en kilometros es: \"+ str(DistanceKm))\n",
    "\n",
    "DistanceMi = DistanceKm * 1.609344\n",
    "print(\"La distancia en millas es: \"+ str(DistanceMi))"
   ]
  },
  {
   "cell_type": "markdown",
   "metadata": {},
   "source": [
    "## Ejercicio 2"
   ]
  },
  {
   "cell_type": "code",
   "execution_count": 20,
   "metadata": {},
   "outputs": [],
   "source": [
    "# Almacenar las entradas del usuario\n",
    "PrimerPlanet = input('Introduzca la distancia del sol para el primer planeta en KM')\n",
    "SegundoPlaneta = input('Introduzca la distancia desde el sol para el segundo planeta en KM')"
   ]
  },
  {
   "cell_type": "code",
   "execution_count": 23,
   "metadata": {},
   "outputs": [],
   "source": [
    "# Convierte las cadenas de ambos planetas a números enteros\n",
    "PrimerPlanet = int(PrimerPlanet)\n",
    "SegundoPlaneta = int(SegundoPlaneta)"
   ]
  },
  {
   "cell_type": "code",
   "execution_count": 25,
   "metadata": {},
   "outputs": [
    {
     "name": "stdout",
     "output_type": "stream",
     "text": [
      "-100\n",
      "-160.9344\n"
     ]
    }
   ],
   "source": [
    "# Realizar el cálculo y determinar el valor absoluto\n",
    "DistanceKm = SegundoPlaneta - PrimerPlanet\n",
    "print(DistanceKm)\n",
    "\n",
    "# Convertir de KM a Millas\n",
    "DistanceMi = DistanceKm * 1.609344\n",
    "print(DistanceMi)"
   ]
  }
 ],
 "metadata": {
  "interpreter": {
   "hash": "b89b5cfaba6639976dc87ff2fec6d58faec662063367e2c229c520fe71072417"
  },
  "kernelspec": {
   "display_name": "Python 3.10.2 64-bit",
   "language": "python",
   "name": "python3"
  },
  "language_info": {
   "codemirror_mode": {
    "name": "ipython",
    "version": 3
   },
   "file_extension": ".py",
   "mimetype": "text/x-python",
   "name": "python",
   "nbconvert_exporter": "python",
   "pygments_lexer": "ipython3",
   "version": "3.10.2"
  },
  "orig_nbformat": 4
 },
 "nbformat": 4,
 "nbformat_minor": 2
}
